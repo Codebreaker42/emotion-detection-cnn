{
 "cells": [
  {
   "cell_type": "code",
   "execution_count": 18,
   "metadata": {},
   "outputs": [],
   "source": [
    "import pandas as pd\n",
    "import tensorflow as tf\n",
    "from tensorflow.keras import Sequential\n",
    "from tensorflow.keras.layers import Conv2D,Flatten,Dense,MaxPooling2D,Dropout"
   ]
  },
  {
   "cell_type": "code",
   "execution_count": 21,
   "metadata": {},
   "outputs": [
    {
     "name": "stdout",
     "output_type": "stream",
     "text": [
      "Found 28709 files belonging to 7 classes.\n"
     ]
    }
   ],
   "source": [
    "training_data=tf.keras.utils.image_dataset_from_directory(\n",
    "    directory=\"N:\\\\deep learning project\\\\CNN\\\\emotion-detection-cnn\\\\dataset\\\\train\",\n",
    "    labels='inferred',\n",
    "    label_mode='int',\n",
    "    image_size=(48,48),\n",
    "    batch_size=32,\n",
    ")"
   ]
  },
  {
   "cell_type": "code",
   "execution_count": 22,
   "metadata": {},
   "outputs": [
    {
     "name": "stdout",
     "output_type": "stream",
     "text": [
      "Found 7178 files belonging to 7 classes.\n"
     ]
    }
   ],
   "source": [
    "testing_data=tf.keras.utils.image_dataset_from_directory(\n",
    "    directory=\"N:\\\\deep learning project\\\\CNN\\\\emotion-detection-cnn\\\\dataset\\\\test\",\n",
    "    labels='inferred',\n",
    "    label_mode='int',\n",
    "    image_size=(48,48),\n",
    "    batch_size=32,\n",
    ")"
   ]
  },
  {
   "cell_type": "markdown",
   "metadata": {},
   "source": [
    "train test split"
   ]
  },
  {
   "cell_type": "code",
   "execution_count": 23,
   "metadata": {},
   "outputs": [
    {
     "name": "stdout",
     "output_type": "stream",
     "text": [
      "<_MapDataset element_spec=(TensorSpec(shape=(None, 48, 48, 3), dtype=tf.float32, name=None), TensorSpec(shape=(None,), dtype=tf.int32, name=None))>\n",
      "<_MapDataset element_spec=(TensorSpec(shape=(None, 48, 48, 3), dtype=tf.float32, name=None), TensorSpec(shape=(None,), dtype=tf.int32, name=None))>\n"
     ]
    }
   ],
   "source": [
    "def normalization(image,label):\n",
    "    image=tf.cast(image/48.,tf.float32)\n",
    "    return image,label\n",
    "\n",
    "training_data=training_data.map(normalization)\n",
    "testing_data=testing_data.map(normalization)\n",
    "print(training_data)\n",
    "print(testing_data)"
   ]
  },
  {
   "cell_type": "markdown",
   "metadata": {},
   "source": [
    "train test split"
   ]
  },
  {
   "cell_type": "code",
   "execution_count": 42,
   "metadata": {},
   "outputs": [],
   "source": [
    "x_train=[]\n",
    "x_test=[]\n",
    "y_train=[]\n",
    "y_test=[]\n",
    "for images,labels in training_data:\n",
    "    x_train.append(images)\n",
    "    y_train.append(labels)\n",
    "for images,labels in testing_data:\n",
    "    x_test.append(images)\n",
    "    y_train.append(labels)"
   ]
  },
  {
   "cell_type": "code",
   "execution_count": 43,
   "metadata": {},
   "outputs": [
    {
     "ename": "AttributeError",
     "evalue": "'list' object has no attribute 'shape'",
     "output_type": "error",
     "traceback": [
      "\u001b[1;31m---------------------------------------------------------------------------\u001b[0m",
      "\u001b[1;31mAttributeError\u001b[0m                            Traceback (most recent call last)",
      "Cell \u001b[1;32mIn[43], line 1\u001b[0m\n\u001b[1;32m----> 1\u001b[0m \u001b[38;5;28mprint\u001b[39m(\u001b[43mx_train\u001b[49m\u001b[38;5;241;43m.\u001b[39;49m\u001b[43mshape\u001b[49m)\n",
      "\u001b[1;31mAttributeError\u001b[0m: 'list' object has no attribute 'shape'"
     ]
    }
   ],
   "source": [
    "x_train=tf.concat()"
   ]
  },
  {
   "cell_type": "markdown",
   "metadata": {},
   "source": [
    "# Model Architecture(keras hyperparameter tuner API)"
   ]
  },
  {
   "cell_type": "code",
   "execution_count": 30,
   "metadata": {},
   "outputs": [],
   "source": [
    "import keras_tuner as kt"
   ]
  },
  {
   "cell_type": "code",
   "execution_count": 38,
   "metadata": {},
   "outputs": [],
   "source": [
    "def build_model(hp):\n",
    "    \"\"\" tune the every hyperparameter of the cnn and fully connected layer using keras api\"\"\"\n",
    "    model=Sequential()\n",
    "    counter=0\n",
    "    for i in range(hp.Int('no of layers',min_value=1,max_value=10)):\n",
    "        if counter==0:\n",
    "            model.add(Conv2D(\n",
    "                hp.Int('no of filters_'+str(i),min_value=32,max_value=512,step=32),\n",
    "                kernel_size=(3,3),\n",
    "                activation=hp.Choice('activation function_'+str(i),values=['relu','selu','tanh','sigmoid','selu']),\n",
    "                input_shape=(48,48,3)\n",
    "                )\n",
    "            )\n",
    "            model.add(MaxPooling2D(pool_size=(2,2)))\n",
    "            model.add(Dropout(hp.Choice('Dropout_'+str(i),values=[.1,.2,.3,.4,.5,.6,.7,.8,.9])))\n",
    "            counter+=1\n",
    "        else:\n",
    "            model.add(Conv2D(\n",
    "                hp.Int('no of filters_'+str(i),min_value=32,max_value=512,step=32),\n",
    "                kernel_size=(3,3),\n",
    "                activation=hp.Choice('activation function_'+str(i),values=['relu','selu','tanh','sigmoid','selu']),\n",
    "            ))\n",
    "            model.add(MaxPooling2D(pool_size=(2,2)))\n",
    "            model.add(Dropout(hp.Choice('Dropout_'+str(i),values=[.1,.2,.3,.4,.5,.6,.7,.8,.9])))\n",
    "    model.add(Flatten())\n",
    "    # fully connected layers architecture\n",
    "    for i in range(hp.Int('no of layers',min_value=1,max_value=10)):\n",
    "        model.add(Dense(\n",
    "            hp.Int('no of nodes_'+str(i),min_value=32,max_value=512,step=32),\n",
    "            activation=hp.Choice('activation function_'+str(i),values=['relu','selu','sigmoid','tanh','elu'])\n",
    "        ))\n",
    "        model.add(Dropout(hp.Choice('Dropout_'+str(i),values=[.1,.2,.3,.4,.5,.6,.7,.8,.9])))\n",
    "    model.add(Dense(7,activation='softmax'))\n",
    "    # model compilation\n",
    "    model.compile(\n",
    "        optimizer=hp.Choice('best optimizer',values=['adam','rmsprop','adadelta','sgd','momentum']),\n",
    "        loss='binary_crossentropy', # you can also give here the different loss function using hp.Choice() \n",
    "        metrics=['accuracy']\n",
    "    )\n",
    "    return model\n"
   ]
  },
  {
   "cell_type": "code",
   "execution_count": 39,
   "metadata": {},
   "outputs": [],
   "source": [
    "tuner=kt.RandomSearch(build_model,objective='val_accuracy',max_trials=5,project_name='bestOptimizer') #project_name making a folder containing the info"
   ]
  },
  {
   "cell_type": "code",
   "execution_count": 40,
   "metadata": {},
   "outputs": [
    {
     "name": "stdout",
     "output_type": "stream",
     "text": [
      "Trial 2 Complete [00h 00m 01s]\n",
      "\n",
      "Best val_accuracy So Far: None\n",
      "Total elapsed time: 00h 00m 02s\n",
      "\n",
      "Search: Running Trial #3\n",
      "\n",
      "Value             |Best Value So Far |Hyperparameter\n",
      "8                 |3                 |no of layers\n",
      "352               |32                |no of filters_0\n",
      "relu              |selu              |activation function_0\n",
      "0.5               |0.9               |Dropout_0\n",
      "128               |384               |no of nodes_0\n",
      "adam              |sgd               |best optimizer\n",
      "256               |32                |no of filters_1\n",
      "relu              |relu              |activation function_1\n",
      "0.7               |0.1               |Dropout_1\n",
      "192               |32                |no of filters_2\n",
      "selu              |relu              |activation function_2\n",
      "0.3               |0.1               |Dropout_2\n",
      "448               |32                |no of nodes_1\n",
      "448               |32                |no of nodes_2\n",
      "352               |None              |no of filters_3\n",
      "tanh              |None              |activation function_3\n",
      "0.9               |None              |Dropout_3\n",
      "512               |None              |no of filters_4\n",
      "tanh              |None              |activation function_4\n",
      "\n"
     ]
    },
    {
     "name": "stderr",
     "output_type": "stream",
     "text": [
      "Traceback (most recent call last):\n",
      "  File \"n:\\deep learning project\\CNN\\emotion-detection-cnn\\env\\lib\\site-packages\\keras_tuner\\src\\engine\\base_tuner.py\", line 274, in _try_run_and_update_trial\n",
      "    self._run_and_update_trial(trial, *fit_args, **fit_kwargs)\n",
      "  File \"n:\\deep learning project\\CNN\\emotion-detection-cnn\\env\\lib\\site-packages\\keras_tuner\\src\\engine\\base_tuner.py\", line 239, in _run_and_update_trial\n",
      "    results = self.run_trial(trial, *fit_args, **fit_kwargs)\n",
      "  File \"n:\\deep learning project\\CNN\\emotion-detection-cnn\\env\\lib\\site-packages\\keras_tuner\\src\\engine\\tuner.py\", line 314, in run_trial\n",
      "    obj_value = self._build_and_fit_model(trial, *args, **copied_kwargs)\n",
      "  File \"n:\\deep learning project\\CNN\\emotion-detection-cnn\\env\\lib\\site-packages\\keras_tuner\\src\\engine\\tuner.py\", line 232, in _build_and_fit_model\n",
      "    model = self._try_build(hp)\n",
      "  File \"n:\\deep learning project\\CNN\\emotion-detection-cnn\\env\\lib\\site-packages\\keras_tuner\\src\\engine\\tuner.py\", line 164, in _try_build\n",
      "    model = self._build_hypermodel(hp)\n",
      "  File \"n:\\deep learning project\\CNN\\emotion-detection-cnn\\env\\lib\\site-packages\\keras_tuner\\src\\engine\\tuner.py\", line 155, in _build_hypermodel\n",
      "    model = self.hypermodel.build(hp)\n",
      "  File \"C:\\Users\\Asus\\AppData\\Local\\Temp\\ipykernel_16868\\3303031633.py\", line 18, in build_model\n",
      "    model.add(Conv2D(\n",
      "  File \"n:\\deep learning project\\CNN\\emotion-detection-cnn\\env\\lib\\site-packages\\keras\\src\\models\\sequential.py\", line 120, in add\n",
      "    self._maybe_rebuild()\n",
      "  File \"n:\\deep learning project\\CNN\\emotion-detection-cnn\\env\\lib\\site-packages\\keras\\src\\models\\sequential.py\", line 139, in _maybe_rebuild\n",
      "    self.build(input_shape)\n",
      "  File \"n:\\deep learning project\\CNN\\emotion-detection-cnn\\env\\lib\\site-packages\\keras\\src\\layers\\layer.py\", line 222, in build_wrapper\n",
      "    original_build_method(*args, **kwargs)\n",
      "  File \"n:\\deep learning project\\CNN\\emotion-detection-cnn\\env\\lib\\site-packages\\keras\\src\\models\\sequential.py\", line 180, in build\n",
      "    x = layer(x)\n",
      "  File \"n:\\deep learning project\\CNN\\emotion-detection-cnn\\env\\lib\\site-packages\\keras\\src\\utils\\traceback_utils.py\", line 122, in error_handler\n",
      "    raise e.with_traceback(filtered_tb) from None\n",
      "  File \"n:\\deep learning project\\CNN\\emotion-detection-cnn\\env\\lib\\site-packages\\keras\\src\\ops\\operation_utils.py\", line 221, in compute_conv_output_shape\n",
      "    raise ValueError(\n",
      "ValueError: Computed output size would be negative. Received `inputs shape=(None, 1, 1, 352)`, `kernel shape=(3, 3, 352, 512)`, `dilation_rate=[1 1]`.\n"
     ]
    },
    {
     "ename": "RuntimeError",
     "evalue": "Number of consecutive failures exceeded the limit of 3.\nTraceback (most recent call last):\n  File \"n:\\deep learning project\\CNN\\emotion-detection-cnn\\env\\lib\\site-packages\\keras_tuner\\src\\engine\\base_tuner.py\", line 274, in _try_run_and_update_trial\n    self._run_and_update_trial(trial, *fit_args, **fit_kwargs)\n  File \"n:\\deep learning project\\CNN\\emotion-detection-cnn\\env\\lib\\site-packages\\keras_tuner\\src\\engine\\base_tuner.py\", line 239, in _run_and_update_trial\n    results = self.run_trial(trial, *fit_args, **fit_kwargs)\n  File \"n:\\deep learning project\\CNN\\emotion-detection-cnn\\env\\lib\\site-packages\\keras_tuner\\src\\engine\\tuner.py\", line 314, in run_trial\n    obj_value = self._build_and_fit_model(trial, *args, **copied_kwargs)\n  File \"n:\\deep learning project\\CNN\\emotion-detection-cnn\\env\\lib\\site-packages\\keras_tuner\\src\\engine\\tuner.py\", line 232, in _build_and_fit_model\n    model = self._try_build(hp)\n  File \"n:\\deep learning project\\CNN\\emotion-detection-cnn\\env\\lib\\site-packages\\keras_tuner\\src\\engine\\tuner.py\", line 164, in _try_build\n    model = self._build_hypermodel(hp)\n  File \"n:\\deep learning project\\CNN\\emotion-detection-cnn\\env\\lib\\site-packages\\keras_tuner\\src\\engine\\tuner.py\", line 155, in _build_hypermodel\n    model = self.hypermodel.build(hp)\n  File \"C:\\Users\\Asus\\AppData\\Local\\Temp\\ipykernel_16868\\3303031633.py\", line 18, in build_model\n    model.add(Conv2D(\n  File \"n:\\deep learning project\\CNN\\emotion-detection-cnn\\env\\lib\\site-packages\\keras\\src\\models\\sequential.py\", line 120, in add\n    self._maybe_rebuild()\n  File \"n:\\deep learning project\\CNN\\emotion-detection-cnn\\env\\lib\\site-packages\\keras\\src\\models\\sequential.py\", line 139, in _maybe_rebuild\n    self.build(input_shape)\n  File \"n:\\deep learning project\\CNN\\emotion-detection-cnn\\env\\lib\\site-packages\\keras\\src\\layers\\layer.py\", line 222, in build_wrapper\n    original_build_method(*args, **kwargs)\n  File \"n:\\deep learning project\\CNN\\emotion-detection-cnn\\env\\lib\\site-packages\\keras\\src\\models\\sequential.py\", line 180, in build\n    x = layer(x)\n  File \"n:\\deep learning project\\CNN\\emotion-detection-cnn\\env\\lib\\site-packages\\keras\\src\\utils\\traceback_utils.py\", line 122, in error_handler\n    raise e.with_traceback(filtered_tb) from None\n  File \"n:\\deep learning project\\CNN\\emotion-detection-cnn\\env\\lib\\site-packages\\keras\\src\\ops\\operation_utils.py\", line 221, in compute_conv_output_shape\n    raise ValueError(\nValueError: Computed output size would be negative. Received `inputs shape=(None, 1, 1, 352)`, `kernel shape=(3, 3, 352, 512)`, `dilation_rate=[1 1]`.\n",
     "output_type": "error",
     "traceback": [
      "\u001b[1;31m---------------------------------------------------------------------------\u001b[0m",
      "\u001b[1;31mRuntimeError\u001b[0m                              Traceback (most recent call last)",
      "Cell \u001b[1;32mIn[40], line 1\u001b[0m\n\u001b[1;32m----> 1\u001b[0m \u001b[43mtuner\u001b[49m\u001b[38;5;241;43m.\u001b[39;49m\u001b[43msearch\u001b[49m\u001b[43m(\u001b[49m\u001b[43mtraining_data\u001b[49m\u001b[43m,\u001b[49m\u001b[43mepoch\u001b[49m\u001b[38;5;241;43m=\u001b[39;49m\u001b[38;5;241;43m5\u001b[39;49m\u001b[43m,\u001b[49m\u001b[43mvalidation_data\u001b[49m\u001b[38;5;241;43m=\u001b[39;49m\u001b[43mtesting_data\u001b[49m\u001b[43m)\u001b[49m\n",
      "File \u001b[1;32mn:\\deep learning project\\CNN\\emotion-detection-cnn\\env\\lib\\site-packages\\keras_tuner\\src\\engine\\base_tuner.py:235\u001b[0m, in \u001b[0;36mBaseTuner.search\u001b[1;34m(self, *fit_args, **fit_kwargs)\u001b[0m\n\u001b[0;32m    233\u001b[0m     \u001b[38;5;28mself\u001b[39m\u001b[38;5;241m.\u001b[39mon_trial_begin(trial)\n\u001b[0;32m    234\u001b[0m     \u001b[38;5;28mself\u001b[39m\u001b[38;5;241m.\u001b[39m_try_run_and_update_trial(trial, \u001b[38;5;241m*\u001b[39mfit_args, \u001b[38;5;241m*\u001b[39m\u001b[38;5;241m*\u001b[39mfit_kwargs)\n\u001b[1;32m--> 235\u001b[0m     \u001b[38;5;28;43mself\u001b[39;49m\u001b[38;5;241;43m.\u001b[39;49m\u001b[43mon_trial_end\u001b[49m\u001b[43m(\u001b[49m\u001b[43mtrial\u001b[49m\u001b[43m)\u001b[49m\n\u001b[0;32m    236\u001b[0m \u001b[38;5;28mself\u001b[39m\u001b[38;5;241m.\u001b[39mon_search_end()\n",
      "File \u001b[1;32mn:\\deep learning project\\CNN\\emotion-detection-cnn\\env\\lib\\site-packages\\keras_tuner\\src\\engine\\base_tuner.py:339\u001b[0m, in \u001b[0;36mBaseTuner.on_trial_end\u001b[1;34m(self, trial)\u001b[0m\n\u001b[0;32m    333\u001b[0m \u001b[38;5;28;01mdef\u001b[39;00m \u001b[38;5;21mon_trial_end\u001b[39m(\u001b[38;5;28mself\u001b[39m, trial):\n\u001b[0;32m    334\u001b[0m \u001b[38;5;250m    \u001b[39m\u001b[38;5;124;03m\"\"\"Called at the end of a trial.\u001b[39;00m\n\u001b[0;32m    335\u001b[0m \n\u001b[0;32m    336\u001b[0m \u001b[38;5;124;03m    Args:\u001b[39;00m\n\u001b[0;32m    337\u001b[0m \u001b[38;5;124;03m        trial: A `Trial` instance.\u001b[39;00m\n\u001b[0;32m    338\u001b[0m \u001b[38;5;124;03m    \"\"\"\u001b[39;00m\n\u001b[1;32m--> 339\u001b[0m     \u001b[38;5;28;43mself\u001b[39;49m\u001b[38;5;241;43m.\u001b[39;49m\u001b[43moracle\u001b[49m\u001b[38;5;241;43m.\u001b[39;49m\u001b[43mend_trial\u001b[49m\u001b[43m(\u001b[49m\u001b[43mtrial\u001b[49m\u001b[43m)\u001b[49m\n\u001b[0;32m    340\u001b[0m     \u001b[38;5;28mself\u001b[39m\u001b[38;5;241m.\u001b[39msave()\n",
      "File \u001b[1;32mn:\\deep learning project\\CNN\\emotion-detection-cnn\\env\\lib\\site-packages\\keras_tuner\\src\\engine\\oracle.py:108\u001b[0m, in \u001b[0;36msynchronized.<locals>.wrapped_func\u001b[1;34m(*args, **kwargs)\u001b[0m\n\u001b[0;32m    106\u001b[0m     LOCKS[oracle]\u001b[38;5;241m.\u001b[39macquire()\n\u001b[0;32m    107\u001b[0m     THREADS[oracle] \u001b[38;5;241m=\u001b[39m thread_name\n\u001b[1;32m--> 108\u001b[0m ret_val \u001b[38;5;241m=\u001b[39m func(\u001b[38;5;241m*\u001b[39margs, \u001b[38;5;241m*\u001b[39m\u001b[38;5;241m*\u001b[39mkwargs)\n\u001b[0;32m    109\u001b[0m \u001b[38;5;28;01mif\u001b[39;00m need_acquire:\n\u001b[0;32m    110\u001b[0m     THREADS[oracle] \u001b[38;5;241m=\u001b[39m \u001b[38;5;28;01mNone\u001b[39;00m\n",
      "File \u001b[1;32mn:\\deep learning project\\CNN\\emotion-detection-cnn\\env\\lib\\site-packages\\keras_tuner\\src\\engine\\oracle.py:588\u001b[0m, in \u001b[0;36mOracle.end_trial\u001b[1;34m(self, trial)\u001b[0m\n\u001b[0;32m    586\u001b[0m \u001b[38;5;28;01mif\u001b[39;00m \u001b[38;5;129;01mnot\u001b[39;00m \u001b[38;5;28mself\u001b[39m\u001b[38;5;241m.\u001b[39m_retry(trial):\n\u001b[0;32m    587\u001b[0m     \u001b[38;5;28mself\u001b[39m\u001b[38;5;241m.\u001b[39mend_order\u001b[38;5;241m.\u001b[39mappend(trial\u001b[38;5;241m.\u001b[39mtrial_id)\n\u001b[1;32m--> 588\u001b[0m     \u001b[38;5;28;43mself\u001b[39;49m\u001b[38;5;241;43m.\u001b[39;49m\u001b[43m_check_consecutive_failures\u001b[49m\u001b[43m(\u001b[49m\u001b[43m)\u001b[49m\n\u001b[0;32m    590\u001b[0m \u001b[38;5;28mself\u001b[39m\u001b[38;5;241m.\u001b[39m_save_trial(trial)\n\u001b[0;32m    591\u001b[0m \u001b[38;5;28mself\u001b[39m\u001b[38;5;241m.\u001b[39msave()\n",
      "File \u001b[1;32mn:\\deep learning project\\CNN\\emotion-detection-cnn\\env\\lib\\site-packages\\keras_tuner\\src\\engine\\oracle.py:545\u001b[0m, in \u001b[0;36mOracle._check_consecutive_failures\u001b[1;34m(self)\u001b[0m\n\u001b[0;32m    543\u001b[0m     consecutive_failures \u001b[38;5;241m=\u001b[39m \u001b[38;5;241m0\u001b[39m\n\u001b[0;32m    544\u001b[0m \u001b[38;5;28;01mif\u001b[39;00m consecutive_failures \u001b[38;5;241m==\u001b[39m \u001b[38;5;28mself\u001b[39m\u001b[38;5;241m.\u001b[39mmax_consecutive_failed_trials:\n\u001b[1;32m--> 545\u001b[0m     \u001b[38;5;28;01mraise\u001b[39;00m \u001b[38;5;167;01mRuntimeError\u001b[39;00m(\n\u001b[0;32m    546\u001b[0m         \u001b[38;5;124m\"\u001b[39m\u001b[38;5;124mNumber of consecutive failures exceeded the limit \u001b[39m\u001b[38;5;124m\"\u001b[39m\n\u001b[0;32m    547\u001b[0m         \u001b[38;5;124mf\u001b[39m\u001b[38;5;124m\"\u001b[39m\u001b[38;5;124mof \u001b[39m\u001b[38;5;132;01m{\u001b[39;00m\u001b[38;5;28mself\u001b[39m\u001b[38;5;241m.\u001b[39mmax_consecutive_failed_trials\u001b[38;5;132;01m}\u001b[39;00m\u001b[38;5;124m.\u001b[39m\u001b[38;5;130;01m\\n\u001b[39;00m\u001b[38;5;124m\"\u001b[39m\n\u001b[0;32m    548\u001b[0m         \u001b[38;5;241m+\u001b[39m (trial\u001b[38;5;241m.\u001b[39mmessage \u001b[38;5;129;01mor\u001b[39;00m \u001b[38;5;124m\"\u001b[39m\u001b[38;5;124m\"\u001b[39m)\n\u001b[0;32m    549\u001b[0m     )\n",
      "\u001b[1;31mRuntimeError\u001b[0m: Number of consecutive failures exceeded the limit of 3.\nTraceback (most recent call last):\n  File \"n:\\deep learning project\\CNN\\emotion-detection-cnn\\env\\lib\\site-packages\\keras_tuner\\src\\engine\\base_tuner.py\", line 274, in _try_run_and_update_trial\n    self._run_and_update_trial(trial, *fit_args, **fit_kwargs)\n  File \"n:\\deep learning project\\CNN\\emotion-detection-cnn\\env\\lib\\site-packages\\keras_tuner\\src\\engine\\base_tuner.py\", line 239, in _run_and_update_trial\n    results = self.run_trial(trial, *fit_args, **fit_kwargs)\n  File \"n:\\deep learning project\\CNN\\emotion-detection-cnn\\env\\lib\\site-packages\\keras_tuner\\src\\engine\\tuner.py\", line 314, in run_trial\n    obj_value = self._build_and_fit_model(trial, *args, **copied_kwargs)\n  File \"n:\\deep learning project\\CNN\\emotion-detection-cnn\\env\\lib\\site-packages\\keras_tuner\\src\\engine\\tuner.py\", line 232, in _build_and_fit_model\n    model = self._try_build(hp)\n  File \"n:\\deep learning project\\CNN\\emotion-detection-cnn\\env\\lib\\site-packages\\keras_tuner\\src\\engine\\tuner.py\", line 164, in _try_build\n    model = self._build_hypermodel(hp)\n  File \"n:\\deep learning project\\CNN\\emotion-detection-cnn\\env\\lib\\site-packages\\keras_tuner\\src\\engine\\tuner.py\", line 155, in _build_hypermodel\n    model = self.hypermodel.build(hp)\n  File \"C:\\Users\\Asus\\AppData\\Local\\Temp\\ipykernel_16868\\3303031633.py\", line 18, in build_model\n    model.add(Conv2D(\n  File \"n:\\deep learning project\\CNN\\emotion-detection-cnn\\env\\lib\\site-packages\\keras\\src\\models\\sequential.py\", line 120, in add\n    self._maybe_rebuild()\n  File \"n:\\deep learning project\\CNN\\emotion-detection-cnn\\env\\lib\\site-packages\\keras\\src\\models\\sequential.py\", line 139, in _maybe_rebuild\n    self.build(input_shape)\n  File \"n:\\deep learning project\\CNN\\emotion-detection-cnn\\env\\lib\\site-packages\\keras\\src\\layers\\layer.py\", line 222, in build_wrapper\n    original_build_method(*args, **kwargs)\n  File \"n:\\deep learning project\\CNN\\emotion-detection-cnn\\env\\lib\\site-packages\\keras\\src\\models\\sequential.py\", line 180, in build\n    x = layer(x)\n  File \"n:\\deep learning project\\CNN\\emotion-detection-cnn\\env\\lib\\site-packages\\keras\\src\\utils\\traceback_utils.py\", line 122, in error_handler\n    raise e.with_traceback(filtered_tb) from None\n  File \"n:\\deep learning project\\CNN\\emotion-detection-cnn\\env\\lib\\site-packages\\keras\\src\\ops\\operation_utils.py\", line 221, in compute_conv_output_shape\n    raise ValueError(\nValueError: Computed output size would be negative. Received `inputs shape=(None, 1, 1, 352)`, `kernel shape=(3, 3, 352, 512)`, `dilation_rate=[1 1]`.\n"
     ]
    }
   ],
   "source": [
    "tuner.search(training_data,epoch=5,validation_data=testing_data)"
   ]
  }
 ],
 "metadata": {
  "kernelspec": {
   "display_name": "env",
   "language": "python",
   "name": "python3"
  },
  "language_info": {
   "codemirror_mode": {
    "name": "ipython",
    "version": 3
   },
   "file_extension": ".py",
   "mimetype": "text/x-python",
   "name": "python",
   "nbconvert_exporter": "python",
   "pygments_lexer": "ipython3",
   "version": "3.10.11"
  }
 },
 "nbformat": 4,
 "nbformat_minor": 2
}
